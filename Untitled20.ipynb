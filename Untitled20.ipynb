{
  "nbformat": 4,
  "nbformat_minor": 0,
  "metadata": {
    "colab": {
      "name": "Untitled20.ipynb",
      "provenance": []
    },
    "kernelspec": {
      "name": "python3",
      "display_name": "Python 3"
    },
    "language_info": {
      "name": "python"
    }
  },
  "cells": [
    {
      "cell_type": "code",
      "source": [
        ""
      ],
      "metadata": {
        "id": "9XkXuwCJZVYE"
      },
      "execution_count": null,
      "outputs": []
    },
    {
      "cell_type": "code",
      "execution_count": null,
      "metadata": {
        "id": "pxnhU3S0TZh9"
      },
      "outputs": [],
      "source": [
        "from IPython.core.display import display_markdown\n",
        "import re\n",
        "a=input(\"Enter the username :\")\n",
        "d={}\n",
        "l=[]\n",
        "chr=\"[a-z]+[@]\\w+[.]\\w\"\n",
        "if re.search(chr,a):\n",
        "  l.append(a)\n",
        "  p=input(\"Enter your password:\")\n",
        "  b=\"[A-Z]+|[a-z\\d]+[@#$&*]?\"\n",
        "  if re.search(p,b):\n",
        "    print(\"Valid Password\")    \n",
        "    l.append(p)\n",
        "  c=input(\" Are  You ready to log in please click yes : no \")\n",
        "  if c==\"yes\":\n",
        "       x=input(\"Enter user  name:\")\n",
        "       if x in d:\n",
        "         print(\"Hello\")\n",
        "       else:\n",
        "         print(\"Please register here:\")\n",
        "         i = input(\"Enter new username:\")\n",
        "         j = input(\"Enter new Password:\")\n",
        "         M = input(\"your account has been created successfully.\")\n",
        "         l.append(j)\n",
        "         l.append(i)\n",
        "         d.update({i:j})\n",
        "  if c ==\"Forgot password: \":\n",
        "    i = input(\"Enter the user E-mailname:\")\n",
        "    if i in d:\n",
        "      print(d.get(i))\n",
        "    else:\n",
        "      print(\"pls register again\")   \n",
        "else:\n",
        "  print(\"Invalid email.Please Create a Valid e-mailId eg-guvi@gmail.com :\")                  "
      ]
    }
  ]
}