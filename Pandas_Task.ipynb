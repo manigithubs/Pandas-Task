{
  "nbformat": 4,
  "nbformat_minor": 0,
  "metadata": {
    "colab": {
      "name": "Pandas_Task.ipynb",
      "provenance": []
    },
    "kernelspec": {
      "name": "python3",
      "display_name": "Python 3"
    },
    "language_info": {
      "name": "python"
    }
  },
  "cells": [
    {
      "cell_type": "code",
      "execution_count": null,
      "metadata": {
        "id": "OEYFwUePAW73"
      },
      "outputs": [],
      "source": [
        "1. #Import pandas under the name pd.\n",
        "import pandas as pd\n"
      ]
    },
    {
      "cell_type": "code",
      "source": [
        "#2.Print the version of pandas that has been imported.\n",
        "pd.__version__\n"
      ],
      "metadata": {
        "colab": {
          "base_uri": "https://localhost:8080/",
          "height": 36
        },
        "id": "QQGkTjpnBB30",
        "outputId": "ee36672b-faf7-4bdf-a3cc-f14a3e24a979"
      },
      "execution_count": null,
      "outputs": [
        {
          "output_type": "execute_result",
          "data": {
            "text/plain": [
              "'1.3.5'"
            ],
            "application/vnd.google.colaboratory.intrinsic+json": {
              "type": "string"
            }
          },
          "metadata": {},
          "execution_count": 7
        }
      ]
    },
    {
      "cell_type": "code",
      "source": [
        "3#Print out all the version information of the libraries that are required by the pandas library\n",
        "pd.show_versions()"
      ],
      "metadata": {
        "id": "OtVmXsUAB4et"
      },
      "execution_count": null,
      "outputs": []
    },
    {
      "cell_type": "code",
      "source": [
        "#Consider the following Python dictionary data and Python list labels:\n",
        "\n",
        "data ={'animal': ['cat', 'cat', 'snake', 'dog', 'dog', 'cat', 'snake', 'cat', 'dog', 'dog'],\n",
        "        'age': [2.5, 3, 0.5, \"np.nan\", 5, 2, 4.5, \"np.nan\", 7, 3],\n",
        "        'visits': [1, 3, 2, 3, 2, 3, 1, 1, 2, 1],\n",
        "        'priority': ['yes', 'yes', 'no', 'yes', 'no', 'no', 'no', 'yes', 'no', 'no']}\n",
        "\n",
        "labels = ['a', 'b', 'c', 'd', 'e', 'f', 'g', 'h', 'i', 'j']\n",
        "#(This is just some meaningless data I made up with the theme of animals and trips to a vet.)\n",
        "\n",
        "4. #Create a DataFrame df from this dictionary data which has the index labels.\n",
        "\n"
      ],
      "metadata": {
        "id": "wyouv_BTB9AQ",
        "colab": {
          "base_uri": "https://localhost:8080/"
        },
        "outputId": "020428c7-adef-4402-9fe6-aeaff1c8eb6c"
      },
      "execution_count": null,
      "outputs": [
        {
          "output_type": "execute_result",
          "data": {
            "text/plain": [
              "4.0"
            ]
          },
          "metadata": {},
          "execution_count": 9
        }
      ]
    },
    {
      "cell_type": "code",
      "source": [
        "4. #Create a DataFrame df from this dictionary data which has the index labels.\n",
        "df =pd.DataFrame(data,index=labels) \n",
        "df"
      ],
      "metadata": {
        "id": "j22_wBVaDLkD"
      },
      "execution_count": null,
      "outputs": []
    },
    {
      "cell_type": "code",
      "source": [
        "5 #Display a summary of the basic information about this DataFrame and its data.\n",
        "df.info() \n",
        "#or\n",
        "df.describe()"
      ],
      "metadata": {
        "id": "nVsa-yEKEI2w"
      },
      "execution_count": null,
      "outputs": []
    },
    {
      "cell_type": "code",
      "source": [
        "6.#Return the first 3 rows of the DataFrame df.\n",
        " df.head(3)\n",
        " #or\n",
        " df.iloc[::3]"
      ],
      "metadata": {
        "id": "jTskvTwCEjog"
      },
      "execution_count": null,
      "outputs": []
    },
    {
      "cell_type": "code",
      "source": [
        "7.#Select just the 'animal' and 'age' columns from the DataFrame d\n",
        "df[[\"animal\",\"age\"]]\n"
      ],
      "metadata": {
        "id": "7yaQwo0EFphL"
      },
      "execution_count": null,
      "outputs": []
    },
    {
      "cell_type": "code",
      "source": [
        "8.#Select the data in rows [3, 4, 8] and in columns ['animal', 'age'].\n",
        "\n",
        "df.loc[df.index[[3,4,8]],[\"animal\",\"age\"]]"
      ],
      "metadata": {
        "id": "BoxvGiQtIGqk"
      },
      "execution_count": null,
      "outputs": []
    },
    {
      "cell_type": "code",
      "source": [
        " 9.#Select only the rows where the number of visits is greater than 3.\n",
        " df.iloc[3::]\n",
        " #or\n",
        "# df[df['visits'] > 4]\n",
        " "
      ],
      "metadata": {
        "id": "MGoLefbeJVpV"
      },
      "execution_count": null,
      "outputs": []
    },
    {
      "cell_type": "code",
      "source": [
        "10.#Select the rows where the age is missing, i.e. is NaN\n",
        "\n",
        "df[df[\"age\"].isnull()]"
      ],
      "metadata": {
        "id": "RlfGRSLOKCqf"
      },
      "execution_count": null,
      "outputs": []
    },
    {
      "cell_type": "code",
      "source": [
        "11.#Select the rows where the animal is a cat and the age is less than 3.\n",
        "df[(df['animal'] == 'cat') & (df['age'] < 3)]"
      ],
      "metadata": {
        "id": "yt_SSDZHNbb_"
      },
      "execution_count": null,
      "outputs": []
    },
    {
      "cell_type": "code",
      "source": [
        "12.#Select the rows the age is between 2 and 4 (inclusive).\n",
        "df[df['age'].between(2, 4)]"
      ],
      "metadata": {
        "id": "PWvMIBrOL2yR"
      },
      "execution_count": null,
      "outputs": []
    },
    {
      "cell_type": "code",
      "source": [
        "13.#Change the age in row 'f' to 1.5.\n",
        "df.loc['f', 'age'] = 1.5\n",
        "print(df)\n",
        "\n"
      ],
      "metadata": {
        "id": "-WatFJFIPJh9"
      },
      "execution_count": null,
      "outputs": []
    },
    {
      "cell_type": "code",
      "source": [
        "14.#Calculate the sum of all visits (the total number of visits).\n",
        "df['visits'].sum()"
      ],
      "metadata": {
        "id": "G7FrxoH1QdUa"
      },
      "execution_count": null,
      "outputs": []
    },
    {
      "cell_type": "code",
      "source": [
        "15.#Calculate the mean age for each different animal in df.\n",
        "df.groupby(\"animal\")[\"age\"].mean()\n",
        "# and then deleting the new row...\n",
        "\n",
        "df = df.drop('k')"
      ],
      "metadata": {
        "id": "lan1uDFGRKAL"
      },
      "execution_count": null,
      "outputs": []
    },
    {
      "cell_type": "code",
      "source": [
        "16.#Append a new row 'k' to df with your choice of values for each column. Then delete that row to return the original DataFrame.\n",
        "df.loc['k'] = [5.5, 'dog', 'no', 2]"
      ],
      "metadata": {
        "id": "xpoaTLkXSgsq"
      },
      "execution_count": null,
      "outputs": []
    },
    {
      "cell_type": "code",
      "source": [
        "17.#Count the number of each type of animal in df.\n",
        "df[\"animal\"].value_counts()"
      ],
      "metadata": {
        "id": "Hm_rkET3V4PA"
      },
      "execution_count": null,
      "outputs": []
    },
    {
      "cell_type": "code",
      "source": [
        "18.#Sort df first by the values in the 'age' in decending order, then by the value in the 'visit' column in ascending order\n",
        "df.sort_values(by=['age', 'visits'], ascending=[False, True])\n"
      ],
      "metadata": {
        "id": "b9-s8EsQW_L_"
      },
      "execution_count": null,
      "outputs": []
    },
    {
      "cell_type": "code",
      "source": [
        "19.#The 'priority' column contains the values 'yes' and 'no'. Replace this column with a column of boolean values: 'yes' should be True and 'no' should be False.\n",
        "df['priority'] = df['priority'].map({'yes': True, 'no': False})\n"
      ],
      "metadata": {
        "id": "KZwIHKP9bngW"
      },
      "execution_count": null,
      "outputs": []
    },
    {
      "cell_type": "code",
      "source": [
        "20.#In the 'animal' column, change the 'snake' entries to 'python'.\n",
        "df['animal'] = df['animal'].replace('snake', 'python')\n"
      ],
      "metadata": {
        "id": "-s_xu2Hog2Q_"
      },
      "execution_count": null,
      "outputs": []
    },
    {
      "cell_type": "code",
      "source": [
        "#21. For each animal type and each number of visits, find the mean age.\n",
        " #In other words, each row is an animal, each column is a number of visits and the values are the mean ages (hint: use a pivot table).\n",
        "df.pivot_table(index='animal', columns='visits', values='age', aggfunc='mean')"
      ],
      "metadata": {
        "id": "oh3TTYAIh2Or"
      },
      "execution_count": null,
      "outputs": []
    },
    {
      "cell_type": "markdown",
      "source": [
        "#DataFrames"
      ],
      "metadata": {
        "id": "Znz6zeTJsIUJ"
      }
    },
    {
      "cell_type": "code",
      "source": [
        "22.#You have a DataFrame df with a column 'A' of integers. For example:\n",
        "df = pd.DataFrame({'A': [1, 2, 2, 3, 4, 5, 5, 5, 6, 7, 7]})"
      ],
      "metadata": {
        "id": "RAPuSfXolkAF"
      },
      "execution_count": null,
      "outputs": []
    },
    {
      "cell_type": "code",
      "source": [
        "#23.how do you subtract the row mean from each element in the row?\n",
        "df.sub(df.mean(axis=1), axis=0)"
      ],
      "metadata": {
        "id": "IkT4rWgHm_HR"
      },
      "execution_count": null,
      "outputs": []
    },
    {
      "cell_type": "code",
      "source": [
        "24.#Which column of numbers has the smallest sum? (Find that column's label.)\n",
        "df.sum().idxmin()"
      ],
      "metadata": {
        "id": "gCljE8oKjiSQ"
      },
      "execution_count": null,
      "outputs": []
    },
    {
      "cell_type": "code",
      "source": [
        "25. #How do you count how many unique rows a DataFrame has (i.e. ignore all rows that are duplicates)?\n",
        "len(df.drop_duplicates(keep=False))"
      ],
      "metadata": {
        "id": "6xTkn0W-n19l",
        "colab": {
          "base_uri": "https://localhost:8080/"
        },
        "outputId": "2f71726b-eacd-435a-a6a7-f84b46ad5774"
      },
      "execution_count": null,
      "outputs": [
        {
          "output_type": "execute_result",
          "data": {
            "text/plain": [
              "0"
            ]
          },
          "metadata": {},
          "execution_count": 36
        }
      ]
    },
    {
      "cell_type": "code",
      "source": [
        "26. #You have a DataFrame that consists of 10 columns of floating--point numbers.\n",
        "#Suppose that exactly 5 entries in each row are NaN values. For each row of the DataFrame, find the column which contains the third NaN value.\n",
        "(df.isnull().cumsum(axis=1) == 3).idxmax(axis=1)"
      ],
      "metadata": {
        "id": "WY5pq9g2oAYV"
      },
      "execution_count": null,
      "outputs": []
    },
    {
      "cell_type": "code",
      "source": [
        "27.#A DataFrame has a column of groups 'grps' and and column of numbers 'vals'. For example:\n",
        "df.groupby('grp')['vals'].nlargest(3).sum(level=0)"
      ],
      "metadata": {
        "id": "hck5lT_LpGBC"
      },
      "execution_count": null,
      "outputs": []
    },
    {
      "cell_type": "code",
      "source": [
        "28.# A DataFrame has two integer columns 'A' and 'B'. The values in 'A' are between 1 and 100 (inclusive).\n",
        "#For each group of 10 consecutive integers in 'A' (i.e. (0, 10], (10, 20], ...), calculate the sum of the corresponding values in column 'B'.\n",
        "df.groupby(pd.cut(df['A'], np.arange(0, 101, 10)))['B'].sum()"
      ],
      "metadata": {
        "id": "UKRJccf6tkmm"
      },
      "execution_count": null,
      "outputs": []
    },
    {
      "cell_type": "code",
      "source": [
        "import numpy as np"
      ],
      "metadata": {
        "id": "nBIA_atAuTGu"
      },
      "execution_count": null,
      "outputs": []
    },
    {
      "cell_type": "code",
      "source": [
        "29.#Consider a DataFrame df where there is an integer column 'X':\n",
        "\n",
        "df = pd.DataFrame({'X': [7, 2, 0, 3, 4, 2, 5, 0, 3, 4]})\n",
        "#For each value, count the difference back to the previous zero (or the start of the Series, whichever is closer). These values should therefore be [1, 2, 0, 1, 2, 3, 4, 0, 1, 2]. Make this a new column 'Y'.\n",
        "\n",
        "x = (df['X'] != 0).cumsum()\n",
        "y = x != x.shift()\n",
        "df['Y'] = y.groupby((y != y.shift()).cumsum()).cumsum()\n"
      ],
      "metadata": {
        "id": "zcfphTc_ttOX"
      },
      "execution_count": null,
      "outputs": []
    },
    {
      "cell_type": "code",
      "source": [
        "30.#Consider a DataFrame containing rows and columns of purely numerical data. Create a list of the row-column index locations of the 3 largest values.\n",
        "\n",
        "df.unstack().sort_values()[-3:].index.tolist()"
      ],
      "metadata": {
        "colab": {
          "base_uri": "https://localhost:8080/"
        },
        "id": "PVELbIleuo1B",
        "outputId": "65a4e5d4-2b2d-4dde-aee1-10ad7430aa30"
      },
      "execution_count": null,
      "outputs": [
        {
          "output_type": "execute_result",
          "data": {
            "text/plain": [
              "[('X', 4), ('X', 6), ('X', 0)]"
            ]
          },
          "metadata": {},
          "execution_count": 47
        }
      ]
    },
    {
      "cell_type": "code",
      "source": [
        "31.#Given a DataFrame with a column of group IDs, 'grps', and a column of corresponding integer values, 'vals', replace any negative values in 'vals' with the group mean.\n",
        "def replace(group):\n",
        "    mask = group<0\n",
        "    group[mask] = group[~mask].mean()\n",
        "    return group\n",
        "\n",
        "df.groupby(['grps'])['vals'].transform(replace)"
      ],
      "metadata": {
        "id": "wcI6W39Yuuf7"
      },
      "execution_count": null,
      "outputs": []
    },
    {
      "cell_type": "code",
      "source": [
        "32.#Implement a rolling mean over groups with window size 3, which ignores NaN value. For example consider the following DataFrame:\n",
        "df = pd.DataFrame({'group': list('aabbabbbabab'),\n",
        "                      'value': [1, 2, 3, np.nan, 2, 3, \n",
        "                                np.nan, 1, 7, 3, np.nan, 8]})"
      ],
      "metadata": {
        "id": "E80r8as-u3XL"
      },
      "execution_count": null,
      "outputs": []
    },
    {
      "cell_type": "markdown",
      "source": [
        "#Series and DatetimeIndex"
      ],
      "metadata": {
        "id": "0gBLX-UrvGVy"
      }
    },
    {
      "cell_type": "code",
      "source": [
        "33.#Create a DatetimeIndex that contains each business day of 2015 and use it to index a Series of random numbers. Let's call this Series s.\n",
        "dti = pd.date_range(start='2015-01-01', end='2015-12-31', freq='B') \n",
        "s = pd.Series(np.random.rand(len(dti)), index=dti)"
      ],
      "metadata": {
        "id": "ICe1IjvfvCJl"
      },
      "execution_count": null,
      "outputs": []
    },
    {
      "cell_type": "code",
      "source": [
        "34. #Find the sum of the values in s for every Wednesday.\n",
        "s[s.index.weekday == 2].sum()"
      ],
      "metadata": {
        "colab": {
          "base_uri": "https://localhost:8080/"
        },
        "id": "O2EOcnDSvNxg",
        "outputId": "176f6f33-dabb-4f42-d263-fb9af4ec1e5f"
      },
      "execution_count": null,
      "outputs": [
        {
          "output_type": "execute_result",
          "data": {
            "text/plain": [
              "23.774664187000898"
            ]
          },
          "metadata": {},
          "execution_count": 53
        }
      ]
    },
    {
      "cell_type": "code",
      "source": [
        "35. #For each calendar month in s, find the mean of values.\n",
        "s.resample('M').mean()"
      ],
      "metadata": {
        "id": "sAglMdjsvayR"
      },
      "execution_count": null,
      "outputs": []
    },
    {
      "cell_type": "code",
      "source": [
        "36. #For each group of four consecutive calendar months in s, find the date on which the highest value occurred.\n",
        "s.groupby(pd.TimeGrouper('4M')).idxmax()"
      ],
      "metadata": {
        "id": "CR_8yYdwviqw"
      },
      "execution_count": null,
      "outputs": []
    },
    {
      "cell_type": "code",
      "source": [
        "37.#Create a DateTimeIndex consisting of the third Thursday in each month for the years 2015 and 2016.\n",
        "pd.date_range('2015-01-01', '2016-12-31', freq='WOM-3THU')"
      ],
      "metadata": {
        "id": "AG_5BvzUvrPJ"
      },
      "execution_count": null,
      "outputs": []
    },
    {
      "cell_type": "markdown",
      "source": [
        "#Cleaning Data"
      ],
      "metadata": {
        "id": "yJQ1Ncvbv9AM"
      }
    },
    {
      "cell_type": "code",
      "source": [
        "#Take this monstrosity as the DataFrame to use in the following puzzles:\n",
        "\n",
        "df = pd.DataFrame({'From_To': ['LoNDon_paris', 'MAdrid_miLAN', 'londON_StockhOlm', \n",
        "                               'Budapest_PaRis', 'Brussels_londOn'],\n",
        "              'FlightNumber': [10045, np.nan, 10065, np.nan, 10085],\n",
        "              'RecentDelays': [[23, 47], [], [24, 43, 87], [13], [67, 32]],\n",
        "                   'Airline': ['KLM(!)', '<Air France> (12)', '(British Airways. )', \n",
        "                               '12. Air France', '\"Swiss Air\"']})"
      ],
      "metadata": {
        "id": "6SrBe-IMv3NL"
      },
      "execution_count": 57,
      "outputs": []
    },
    {
      "cell_type": "code",
      "source": [
        "38.#Some values in the the FlightNumber column are missing. These numbers are meant to increase by 10 with each row so 10055 and 10075 need to be put in place. Fill in these missing numbers and make the column an integer column (instead of a float column).\n",
        "\n",
        "df['FlightNumber'] = df['FlightNumber'].interpolate().astype(int)"
      ],
      "metadata": {
        "id": "naE3gZVYwExR"
      },
      "execution_count": 58,
      "outputs": []
    },
    {
      "cell_type": "code",
      "source": [
        "39. #The From_To column would be better as two separate columns! Split each string on the underscore delimiter _ to give a new temporary DataFrame with the correct values. Assign the correct column names to this temporary DataFrame.\n",
        "\n",
        "temp = df.From_To.str.split('_', expand=True)\n",
        "temp.columns = ['From', 'To']"
      ],
      "metadata": {
        "id": "bpnsR3hHwK0r"
      },
      "execution_count": 59,
      "outputs": []
    },
    {
      "cell_type": "code",
      "source": [
        "40.#Notice how the capitalisation of the city names is all mixed up in this temporary DataFrame. Standardise the strings so that only the first letter is uppercase (e.g. \"londON\" should become \"London\".)\n",
        "\n",
        "temp['From'] = temp['From'].str.capitalize()\n",
        "temp['To'] = temp['To'].str.capitalize()"
      ],
      "metadata": {
        "id": "QyetrL0rwQ90"
      },
      "execution_count": 60,
      "outputs": []
    },
    {
      "cell_type": "code",
      "source": [
        "41. #Delete the From_To column from df and attach the temporary DataFrame from the previous questions.\n",
        "df = df.drop('From_To', axis=1)\n",
        "df = df.join(temp)"
      ],
      "metadata": {
        "id": "Y2kr0o0-wWb7"
      },
      "execution_count": 61,
      "outputs": []
    },
    {
      "cell_type": "code",
      "source": [
        "42. #In the Airline column, you can see some extra puctuation and symbols have appeared around the airline names. Pull out just the airline name. E.g. '(British Airways. )' should become 'British Airways'.\n",
        "\n",
        "df['Airline'] = df['Airline'].str.extract('([a-zA-Z\\s]+)', expand=False).str.strip()"
      ],
      "metadata": {
        "id": "unVpZJgfwawd"
      },
      "execution_count": 62,
      "outputs": []
    },
    {
      "cell_type": "code",
      "source": [
        "43. #In the RecentDelays column, the values have been entered into the DataFrame as a list. We would like each first value in its own column, each second value in its own column, and so on. If there isn't an Nth value, the value should be NaN.\n",
        "\n",
        "#Expand the Series of lists into a DataFrame named delays, rename the columns delay_1, delay_2, etc. and replace the unwanted RecentDelays column in df with delays.\n",
        "\n",
        "# there are several ways to do this, but the following approach is possibly the simplest\n",
        "\n",
        "delays = df['RecentDelays'].apply(pd.Series)\n",
        "\n",
        "delays.columns = ['delay_{}'.format(n) for n in range(1, len(delays.columns)+1)]\n",
        "\n",
        "df = df.drop('RecentDelays', axis=1).join(delays)"
      ],
      "metadata": {
        "id": "-kq8P1t7whLp"
      },
      "execution_count": 63,
      "outputs": []
    },
    {
      "cell_type": "markdown",
      "source": [
        "#Using MultiIndexes"
      ],
      "metadata": {
        "id": "0VJ5zCJdwudk"
      }
    },
    {
      "cell_type": "code",
      "source": [
        "44. #Given the lists letters = ['A', 'B', 'C'] and numbers = list(range(10)), construct a MultiIndex object from the product of the two lists. Use it to index a Series of random numbers. Call this Series s.\n",
        "\n",
        "letters = ['A', 'B', 'C']\n",
        "numbers = list(range(10))\n",
        "\n",
        "mi = pd.MultiIndex.from_product([letters, numbers])\n",
        "s = pd.Series(np.random.rand(30), index=mi)"
      ],
      "metadata": {
        "id": "uKP-tfnswopg"
      },
      "execution_count": 64,
      "outputs": []
    },
    {
      "cell_type": "code",
      "source": [
        "45.#Check the index of s is lexicographically sorted (this is a necessary proprty for indexing to work correctly with a MultiIndex).\n",
        "\n",
        "\n",
        "s.index.is_lexsorted()\n",
        "\n",
        "# or more verbosely...\n",
        "s.index.lexsort_depth == s.index.nlevels"
      ],
      "metadata": {
        "id": "sx7vefpbw13t"
      },
      "execution_count": null,
      "outputs": []
    },
    {
      "cell_type": "code",
      "source": [
        "46.#Select the labels 1, 3 and 6 from the second level of the MultiIndexed Series.\n",
        "s.loc[:, [1, 3, 6]]"
      ],
      "metadata": {
        "id": "MqpCH3Fhw74R"
      },
      "execution_count": null,
      "outputs": []
    },
    {
      "cell_type": "code",
      "source": [
        "47. #Slice the Series s; slice up to label 'B' for the first level and from label 5 onwards for the second level.\n",
        "s.loc[pd.IndexSlice[:'B', 5:]]"
      ],
      "metadata": {
        "id": "ZyvL-iSpxBT0"
      },
      "execution_count": null,
      "outputs": []
    },
    {
      "cell_type": "code",
      "source": [
        "48. #Sum the values in s for each label in the first level (you should have Series giving you a total for labels A, B and C).\n",
        "\n",
        "s.sum(level=0)"
      ],
      "metadata": {
        "id": "pg2_KDVNxHEK"
      },
      "execution_count": null,
      "outputs": []
    },
    {
      "cell_type": "code",
      "source": [
        "49.#Suppose that sum() (and other methods) did not accept a level keyword argument. How else could you perform the equivalent of s.sum(level=1)?\n",
        "# One way is to use .unstack()... \n",
        "# This method should convince you that s is essentially \n",
        "# just a regular DataFrame in disguise!\n",
        "s.unstack().sum(axis=0)"
      ],
      "metadata": {
        "id": "XaC4OfkSxMgG"
      },
      "execution_count": null,
      "outputs": []
    },
    {
      "cell_type": "code",
      "source": [
        "50. #Exchange the levels of the MultiIndex so we have an index of the form (letters, numbers). Is this new Series properly lexsorted? If not, sort it.\n",
        "new_s = s.swaplevel(0, 1)\n",
        "\n",
        "# check\n",
        "new_s.index.is_lexsorted()\n",
        "\n",
        "# sort\n",
        "new_s = new_s.sort_index()"
      ],
      "metadata": {
        "id": "a4rccwdfxTJe"
      },
      "execution_count": null,
      "outputs": []
    },
    {
      "cell_type": "markdown",
      "source": [
        "#Minesweeper"
      ],
      "metadata": {
        "id": "hv7NNisNxc_O"
      }
    },
    {
      "cell_type": "code",
      "source": [
        "#51. Let's suppose we're playing Minesweeper on a 5 by 4 grid, i.e.\n",
        "\n",
        "X = 5 Y = 4\n",
        "#To begin, generate a DataFrame df with two columns, 'x' and 'y' containing every coordinate for this grid. That is, the DataFrame should start:\n",
        "   x  y\n",
        "0  0  0\n",
        "1  0  1\n",
        "2  0  2\n",
        "p = pd.tools.util.cartesian_product([np.arange(X), np.arange(Y)])\n",
        "df = pd.DataFrame(np.asarray(p).T, columns=['x', 'y'])"
      ],
      "metadata": {
        "colab": {
          "base_uri": "https://localhost:8080/",
          "height": 134
        },
        "id": "NBZ3XIuCxaTQ",
        "outputId": "84695020-49eb-471a-f558-27110b947841"
      },
      "execution_count": 74,
      "outputs": [
        {
          "output_type": "error",
          "ename": "SyntaxError",
          "evalue": "ignored",
          "traceback": [
            "\u001b[0;36m  File \u001b[0;32m\"<ipython-input-74-01afa62e4fe7>\"\u001b[0;36m, line \u001b[0;32m3\u001b[0m\n\u001b[0;31m    X = 5 Y = 4\u001b[0m\n\u001b[0m          ^\u001b[0m\n\u001b[0;31mSyntaxError\u001b[0m\u001b[0;31m:\u001b[0m invalid syntax\n"
          ]
        }
      ]
    },
    {
      "cell_type": "code",
      "source": [
        "52. #For this DataFrame df, create a new column of zeros (safe) and ones (mine). The probability of a mine occuring at each location should be 0.4.\n",
        "\n",
        "\n",
        "df['mine'] = np.random.binomial(1, 0.4, X*Y)"
      ],
      "metadata": {
        "id": "Nz_xq5fgyFgt"
      },
      "execution_count": null,
      "outputs": []
    },
    {
      "cell_type": "code",
      "source": [
        "53. #Now create a new column for this DataFrame called 'adjacent'. This column should contain the number of mines found on adjacent squares in the grid.\n",
        "\n",
        "#(E.g. for the first row, which is the entry for the coordinate (0, 0), count how many mines are found on the coordinates (0, 1), (1, 0) and (1, 1).)\n",
        "df['adjacent'] = \\\n",
        "    df.merge(df + [ 1,  1, 0], on=['x', 'y'], how='left')\\\n",
        "      .merge(df + [ 1, -1, 0], on=['x', 'y'], how='left')\\\n",
        "      .merge(df + [-1,  1, 0], on=['x', 'y'], how='left')\\\n",
        "      .merge(df + [-1, -1, 0], on=['x', 'y'], how='left')\\\n",
        "      .merge(df + [ 1,  0, 0], on=['x', 'y'], how='left')\\\n",
        "      .merge(df + [-1,  0, 0], on=['x', 'y'], how='left')\\\n",
        "      .merge(df + [ 0,  1, 0], on=['x', 'y'], how='left')\\\n",
        "      .merge(df + [ 0, -1, 0], on=['x', 'y'], how='left')\\\n",
        "       .iloc[:, 3:]\\\n",
        "        .sum(axis=1)"
      ],
      "metadata": {
        "id": "y91vAQ5ZyL6V"
      },
      "execution_count": null,
      "outputs": []
    },
    {
      "cell_type": "code",
      "source": [
        "54. #For rows of the DataFrame that contain a mine, set the value in the 'adjacent' column to NaN.\n",
        "df.loc[df['mine'] == 1, 'adjacent'] = np.nan"
      ],
      "metadata": {
        "id": "aV_jfq41yZAm"
      },
      "execution_count": null,
      "outputs": []
    },
    {
      "cell_type": "code",
      "source": [
        "55. #Finally, convert the DataFrame to grid of the adjacent mine counts: columns are the x coordinate, rows are the y coordinate.\n",
        "df.drop('mine', axis=1)\\\n",
        "  .set_index(['y', 'x']).unstack()"
      ],
      "metadata": {
        "id": "B9PcZIdgygjZ"
      },
      "execution_count": null,
      "outputs": []
    },
    {
      "cell_type": "markdown",
      "source": [
        "#Plotting"
      ],
      "metadata": {
        "id": "86Z1iSZVytso"
      }
    },
    {
      "cell_type": "code",
      "source": [
        "56. #Pandas is highly integrated with the plotting library matplotlib, and makes plotting DataFrames very user-friendly! Plotting in a notebook environment usually makes use of the following boilerplate:\n",
        "\n",
        "import matplotlib.pyplot as plt\n",
        "%matplotlib inline\n",
        "plt.style.use('ggplot')"
      ],
      "metadata": {
        "id": "fi1EiHQgylq3"
      },
      "execution_count": 78,
      "outputs": []
    },
    {
      "cell_type": "code",
      "source": [
        "#For starters, make a scatter plot of this random data, but use black X's instead of the default markers.\n",
        "\n",
        "df = pd.DataFrame({\"xs\":[1,5,2,8,1], \"ys\":[4,2,1,9,6]})"
      ],
      "metadata": {
        "id": "KSRbu4ZZyzC1"
      },
      "execution_count": 79,
      "outputs": []
    },
    {
      "cell_type": "code",
      "source": [
        "\n",
        "import matplotlib.pyplot as plt\n",
        "%matplotlib inline\n",
        "plt.style.use('ggplot')\n",
        "\n",
        "df = pd.DataFrame({\"xs\":[1,5,2,8,1], \"ys\":[4,2,1,9,6]})\n",
        "\n",
        "df.plot.scatter(\"xs\", \"ys\", color = \"black\", marker = \"x\")"
      ],
      "metadata": {
        "id": "oieev_3Jy4yt"
      },
      "execution_count": null,
      "outputs": []
    },
    {
      "cell_type": "code",
      "source": [
        "57. #Columns in your DataFrame can also be used to modify colors and sizes. Bill has been keeping track of his performance at work over time, as well as how good he was feeling that day, and whether he had a cup of coffee in the morning. Make a plot which incorporates all four features of this DataFrame.\n",
        "\n",
        "#(Hint: If you're having trouble seeing the plot, try multiplying the Series which you choose to represent size by 10 or more)\n",
        "\n",
        "#The chart doesn't have to be pretty: this isn't a course in data viz!\n",
        "\n",
        "df = pd.DataFrame({\"productivity\":[5,2,3,1,4,5,6,7,8,3,4,8,9],\n",
        "                   \"hours_in\"    :[1,9,6,5,3,9,2,9,1,7,4,2,2],\n",
        "                   \"happiness\"   :[2,1,3,2,3,1,2,3,1,2,2,1,3],\n",
        "                   \"caffienated\" :[0,0,1,1,0,0,0,0,1,1,0,1,0]})\n",
        "df.plot.scatter(\"hours_in\", \"productivity\", s = df.happiness * 30, c = df.caffienated)"
      ],
      "metadata": {
        "id": "9qxsbjHRy_ow"
      },
      "execution_count": null,
      "outputs": []
    },
    {
      "cell_type": "code",
      "source": [
        "58. #What if we want to plot multiple things?\n",
        "# Pandas allows you to pass in a matplotlib Axis object for plots, and plots will also return an Axis objec\n",
        "\n",
        "df = pd.DataFrame({\"revenue\":[57,68,63,71,72,90,80,62,59,51,47,52],\n",
        "                   \"advertising\":[2.1,1.9,2.7,3.0,3.6,3.2,2.7,2.4,1.8,1.6,1.3,1.9],\n",
        "                   \"month\":range(12)\n",
        "                  })\n",
        "\n",
        "ax = df.plot.bar(\"month\", \"revenue\", color = \"green\")\n",
        "df.plot.line(\"month\", \"advertising\", secondary_y = True, ax = ax)\n",
        "ax.set_xlim((-1,12))"
      ],
      "metadata": {
        "id": "dN3TC4iEzZIU"
      },
      "execution_count": null,
      "outputs": []
    },
    {
      "cell_type": "code",
      "source": [
        ""
      ],
      "metadata": {
        "id": "S13ysyd8z8u0"
      },
      "execution_count": null,
      "outputs": []
    },
    {
      "cell_type": "markdown",
      "metadata": {
        "id": "1uEy5YRNqFzn"
      },
      "source": [
        "Now we're finally ready to create a candlestick chart, which is a very common tool used to analyze stock price data.  A candlestick chart shows the opening, closing, highest, and lowest price for a stock during a time window.  The color of the \"candle\" (the thick part of the bar) is green if the stock closed above its opening price, or red if below.\n",
        "\n",
        "![Candlestick Example](img/candle.jpg)\n",
        "\n",
        "This was initially designed to be a pandas plotting challenge, but it just so happens that this type of plot is just not feasible using pandas' methods.  If you are unfamiliar with matplotlib, we have provided a function that will plot the chart for you so long as you can use pandas to get the data into the correct format.\n",
        "\n",
        "Your first step should be to get the data in the correct format using pandas' time-series grouping function.  We would like each candle to represent an hour's worth of data.  You can write your own aggregation function which returns the open/high/low/close, but pandas has a built-in which also does this."
      ]
    },
    {
      "cell_type": "code",
      "source": [
        ""
      ],
      "metadata": {
        "id": "nOdAJiLE0JvO"
      },
      "execution_count": null,
      "outputs": []
    },
    {
      "cell_type": "markdown",
      "metadata": {
        "id": "laIKz5inqFzn"
      },
      "source": [
        "The below cell contains helper functions.  Call ```day_stock_data()``` to generate a DataFrame containing the prices a hypothetical stock sold for, and the time the sale occurred.  Call ```plot_candlestick(df)``` on your properly aggregated and formatted stock data to print the candlestick chart."
      ]
    },
    {
      "cell_type": "code",
      "execution_count": 84,
      "metadata": {
        "collapsed": true,
        "id": "pw_haPafqFzn"
      },
      "outputs": [],
      "source": [
        "import numpy as np\n",
        "def float_to_time(x):\n",
        "    return str(int(x)) + \":\" + str(int(x%1 * 60)).zfill(2) + \":\" + str(int(x*60 % 1 * 60)).zfill(2)\n",
        "\n",
        "def day_stock_data():\n",
        "    #NYSE is open from 9:30 to 4:00\n",
        "    time = 9.5\n",
        "    price = 100\n",
        "    results = [(float_to_time(time), price)]\n",
        "    while time < 16:\n",
        "        elapsed = np.random.exponential(.001)\n",
        "        time += elapsed\n",
        "        if time > 16:\n",
        "            break\n",
        "        price_diff = np.random.uniform(.999, 1.001)\n",
        "        price *= price_diff\n",
        "        results.append((float_to_time(time), price))\n",
        "    \n",
        "    \n",
        "    df = pd.DataFrame(results, columns = ['time','price'])\n",
        "    df.time = pd.to_datetime(df.time)\n",
        "    return df\n",
        "\n",
        "#Don't read me unless you get stuck!\n",
        "def plot_candlestick(agg):\n",
        "    \"\"\"\n",
        "    agg is a DataFrame which has a DatetimeIndex and five columns: [\"open\",\"high\",\"low\",\"close\",\"color\"]\n",
        "    \"\"\"\n",
        "    fig, ax = plt.subplots()\n",
        "    for time in agg.index:\n",
        "        ax.plot([time.hour] * 2, agg.loc[time, [\"high\",\"low\"]].values, color = \"black\")\n",
        "        ax.plot([time.hour] * 2, agg.loc[time, [\"open\",\"close\"]].values, color = agg.loc[time, \"color\"], linewidth = 10)\n",
        "\n",
        "    ax.set_xlim((8,16))\n",
        "    ax.set_ylabel(\"Price\")\n",
        "    ax.set_xlabel(\"Hour\")\n",
        "    ax.set_title(\"OHLC of Stock Value During Trading Day\")\n",
        "    plt.show()"
      ]
    },
    {
      "cell_type": "code",
      "source": [
        "59. #Generate a day's worth of random stock data, and aggregate / reformat it so that it has hourly summaries of the opening, highest, lowest, and closing prices\n",
        "df = day_stock_data()\n",
        "df.head()\n",
        "df.set_index(\"time\", inplace = True)\n",
        "agg = df.resample(\"H\").ohlc()\n",
        "agg.columns = agg.columns.droplevel()\n",
        "agg[\"color\"] = (agg.close > agg.open).map({True:\"green\",False:\"red\"})\n",
        "agg.head()"
      ],
      "metadata": {
        "id": "esTBknu00Nxt"
      },
      "execution_count": null,
      "outputs": []
    },
    {
      "cell_type": "code",
      "source": [
        "60. #Now that you have your properly-formatted data, try to plot it yourself as a candlestick chart. Use the plot_candlestick(df) function above, or matplotlib's plot documentation if you get stuck.\n",
        "\n",
        "plot_candlestick(agg)"
      ],
      "metadata": {
        "id": "fEa7VnnL0xUw"
      },
      "execution_count": null,
      "outputs": []
    }
  ]
}